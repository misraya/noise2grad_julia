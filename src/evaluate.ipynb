{
 "cells": [
  {
   "cell_type": "code",
   "execution_count": 28,
   "metadata": {
    "scrolled": true
   },
   "outputs": [],
   "source": [
    "include(\"base.jl\")\n",
    "import CUDA\n",
    "dtype=(CUDA.functional() ? KnetArray{Float32} : Array{Float32})\n",
    "\n",
    "#dataset paths\n",
    "train_ground_truth_path = \"data/Noise_datasets/train/ground_truth/\" #x\n",
    "train_reference_clean_path = \"data/Noise_datasets/train/reference_clean_image/\" #y\n",
    "test_ground_truth_path = \"data/Noise_datasets/test/ground_truth\";\n",
    "\n",
    "noisy_train_gaussian_path = \"../noisy_train/\"\n",
    "noisy_test_gaussian_fixed_path = \"../noisy_gaussian_fixed/\"\n",
    "\n",
    "bs = 64;\n",
    "\n",
    "Knet.seed!(500);\n",
    "Random.seed!(500);"
   ]
  },
  {
   "cell_type": "code",
   "execution_count": 29,
   "metadata": {},
   "outputs": [
    {
     "data": {
      "text/plain": [
       "\"../Noise2Grad_Pytorch_code/datasets/test/noisy_test\""
      ]
     },
     "execution_count": 29,
     "metadata": {},
     "output_type": "execute_result"
    }
   ],
   "source": [
    "test_ground_truth_path = \"../Noise2Grad_Pytorch_code/datasets/test/ground_truth\"\n",
    "noisy_test_gaussian_fixed_path = \"../Noise2Grad_Pytorch_code/datasets/test/noisy_test\"\n"
   ]
  },
  {
   "cell_type": "code",
   "execution_count": 30,
   "metadata": {
    "scrolled": true
   },
   "outputs": [],
   "source": [
    "noisy_dtst = TestDataset(noisy_test_gaussian_fixed_path, bs, dtype);\n",
    "gt_dtst = TestDataset(test_ground_truth_path, bs, dtype);"
   ]
  },
  {
   "cell_type": "code",
   "execution_count": 31,
   "metadata": {
    "scrolled": true
   },
   "outputs": [
    {
     "name": "stdout",
     "output_type": "stream",
     "text": [
      "Avg. PSNR on Test Set: 20.494158\n"
     ]
    }
   ],
   "source": [
    "total_psnr = 0\n",
    "\n",
    "for (x1_batch, x2_batch) in zip(noisy_dtst.data,gt_dtst.data)\n",
    "\n",
    "    x1_batch = convert(Array{Float32}, x1_batch)\n",
    "    x2_batch = convert(Array{Float32}, x2_batch)\n",
    "        \n",
    "    #calculate losses\n",
    "    total_psnr += sum(psnr(x1_batch, x2_batch))\n",
    "end\n",
    "\n",
    "\n",
    "avg_psnr = total_psnr / noisy_dtst.length\n",
    "println(\"Avg. PSNR on Test Set: \", avg_psnr) #the greater the better, goes to Inf."
   ]
  },
  {
   "cell_type": "code",
   "execution_count": null,
   "metadata": {},
   "outputs": [],
   "source": []
  },
  {
   "cell_type": "code",
   "execution_count": null,
   "metadata": {},
   "outputs": [],
   "source": []
  },
  {
   "cell_type": "code",
   "execution_count": null,
   "metadata": {},
   "outputs": [],
   "source": []
  },
  {
   "cell_type": "code",
   "execution_count": 3,
   "metadata": {},
   "outputs": [
    {
     "data": {
      "text/plain": [
       "eval (generic function with 2 methods)"
      ]
     },
     "execution_count": 3,
     "metadata": {},
     "output_type": "execute_result"
    }
   ],
   "source": [
    "# evaluation: calculate PSNR and SSIM metrics on test set\n",
    "# noise funcs available: additive_gaussian_noise, poisson_noise, speckle_noise\n",
    "\n",
    "function eval(m, dtst)\n",
    "    total_psnr = 0\n",
    "    #total_ssim = 0\n",
    "\n",
    "    for x_batch in dtst.data\n",
    "\n",
    "        x_batch = convert(Array{Float32}, x_batch)\n",
    "        #noised_batch = noise_func(x_batch) # add noise                \n",
    "        denoised_batch = convert(Array{Float32}, m(convert(m.dtype, x_batch))) # pass through the network\n",
    "        \n",
    "        #calculate losses\n",
    "        total_psnr += sum(psnr(x_batch, denoised_batch))\n",
    "        #total_ssim += sum(ssim(noised_batch, denoised_batch))\n",
    "    end\n",
    "\n",
    "    avg_psnr = total_psnr / dtst.length\n",
    "    #avg_ssim = total_ssim / dtst.length\n",
    "    println(\"Avg. PSNR on Test Set: \", avg_psnr) #the greater the better, goes to Inf.\n",
    "    #println(\"Avg. SSIM on Test Set: \", avg_ssim) #between [0,1]. closer to 1 is better\n",
    "end"
   ]
  },
  {
   "cell_type": "code",
   "execution_count": 9,
   "metadata": {},
   "outputs": [
    {
     "name": "stdout",
     "output_type": "stream",
     "text": [
      "Avg. PSNR on Test Set: 18.494137\n"
     ]
    }
   ],
   "source": [
    "model = load(\"checkpoints/fixed_gaussian_bs64_2e-4_epoch300.jld2\", \"model_checkpoint\")\n",
    "eval(model, dtst)"
   ]
  },
  {
   "cell_type": "code",
   "execution_count": null,
   "metadata": {},
   "outputs": [],
   "source": []
  },
  {
   "cell_type": "code",
   "execution_count": 14,
   "metadata": {},
   "outputs": [],
   "source": [
    "import NaturalSort"
   ]
  },
  {
   "cell_type": "code",
   "execution_count": 4,
   "metadata": {
    "scrolled": true
   },
   "outputs": [
    {
     "name": "stdout",
     "output_type": "stream",
     "text": [
      "f = \"fixed_gaussian_bs64_2e-4_epoch10.jld2\"\n",
      "f = \"fixed_gaussian_bs64_2e-4_epoch20.jld2\"\n",
      "f = \"fixed_gaussian_bs64_2e-4_epoch30.jld2\"\n",
      "f = \"fixed_gaussian_bs64_2e-4_epoch40.jld2\"\n",
      "f = \"fixed_gaussian_bs64_2e-4_epoch50.jld2\"\n",
      "f = \"fixed_gaussian_bs64_2e-4_epoch60.jld2\"\n",
      "f = \"fixed_gaussian_bs64_2e-4_epoch70.jld2\"\n",
      "f = \"fixed_gaussian_bs64_2e-4_epoch80.jld2\"\n",
      "f = \"fixed_gaussian_bs64_2e-4_epoch90.jld2\"\n",
      "f = \"fixed_gaussian_bs64_2e-4_epoch100.jld2\"\n",
      "f = \"fixed_gaussian_bs64_2e-4_epoch110.jld2\"\n",
      "f = \"fixed_gaussian_bs64_2e-4_epoch120.jld2\"\n",
      "f = \"fixed_gaussian_bs64_2e-4_epoch130.jld2\"\n",
      "f = \"fixed_gaussian_bs64_2e-4_epoch140.jld2\"\n",
      "f = \"fixed_gaussian_bs64_2e-4_epoch150.jld2\"\n",
      "f = \"fixed_gaussian_bs64_2e-4_epoch160.jld2\"\n",
      "f = \"fixed_gaussian_bs64_2e-4_epoch170.jld2\"\n",
      "f = \"fixed_gaussian_bs64_2e-4_epoch180.jld2\"\n",
      "f = \"fixed_gaussian_bs64_2e-4_epoch190.jld2\"\n",
      "f = \"fixed_gaussian_bs64_2e-4_epoch200.jld2\"\n",
      "f = \"fixed_gaussian_bs64_2e-4_epoch210.jld2\"\n",
      "f = \"fixed_gaussian_bs64_2e-4_epoch220.jld2\"\n",
      "f = \"fixed_gaussian_bs64_2e-4_epoch230.jld2\"\n",
      "f = \"fixed_gaussian_bs64_2e-4_epoch240.jld2\"\n",
      "f = \"fixed_gaussian_bs64_2e-4_epoch250.jld2\"\n",
      "f = \"fixed_gaussian_bs64_2e-4_epoch260.jld2\"\n",
      "f = \"fixed_gaussian_bs64_2e-4_epoch270.jld2\"\n",
      "f = \"fixed_gaussian_bs64_2e-4_epoch280.jld2\"\n",
      "f = \"fixed_gaussian_bs64_2e-4_epoch290.jld2\"\n",
      "f = \"fixed_gaussian_bs64_2e-4_epoch300.jld2\"\n",
      "f = \"fixed_gaussian_bs64_2e-4_epoch310.jld2\"\n",
      "f = \"fixed_gaussian_bs64_2e-4_epoch320.jld2\"\n",
      "f = \"fixed_gaussian_bs64_2e-4_epoch330.jld2\"\n",
      "f = \"fixed_gaussian_bs64_2e-4_epoch340.jld2\"\n",
      "f = \"fixed_gaussian_bs64_2e-4_epoch350.jld2\"\n",
      "f = \"fixed_gaussian_bs64_2e-4_epoch360.jld2\"\n",
      "f = \"fixed_gaussian_bs64_2e-4_epoch370.jld2\"\n",
      "f = \"fixed_gaussian_bs64_2e-4_epoch380.jld2\"\n",
      "f = \"fixed_gaussian_bs64_2e-4_epoch390.jld2\"\n",
      "f = \"fixed_gaussian_bs64_2e-4_epoch400.jld2\"\n",
      "f = \"fixed_gaussian_bs64_2e-4_epoch410.jld2\"\n",
      "f = \"fixed_gaussian_bs64_2e-4_epoch420.jld2\"\n",
      "f = \"fixed_gaussian_bs64_2e-4_epoch430.jld2\"\n",
      "f = \"fixed_gaussian_bs64_2e-4_epoch440.jld2\"\n",
      "f = \"fixed_gaussian_bs64_2e-4_epoch450.jld2\"\n",
      "f = \"fixed_gaussian_bs64_2e-4_epoch460.jld2\"\n",
      "f = \"fixed_gaussian_bs64_2e-4_epoch470.jld2\"\n",
      "f = \"fixed_gaussian_bs64_2e-4_epoch480.jld2\"\n",
      "f = \"fixed_gaussian_bs64_2e-4_epoch490.jld2\"\n",
      "f = \"fixed_gaussian_bs64_2e-4_epoch500.jld2\"\n",
      "f = \"initnormal_fixed_gaussian_bs1_2e-4_epoch10.jld2\"\n",
      "Avg. PSNR on Test Set: 14.065814\n",
      "f = \"initnormal_fixed_gaussian_bs1_2e-4_epoch20.jld2\"\n",
      "Avg. PSNR on Test Set: 12.712773\n",
      "f = \"initnormal_fixed_gaussian_bs1_2e-4_epoch30.jld2\"\n",
      "Avg. PSNR on Test Set: 12.170561\n",
      "f = \"initnormal_fixed_gaussian_bs1_2e-4_epoch40.jld2\"\n",
      "Avg. PSNR on Test Set: 12.025206\n",
      "f = \"initnormal_fixed_gaussian_bs1_2e-4_epoch50.jld2\"\n",
      "Avg. PSNR on Test Set: 12.103797\n",
      "f = \"initnormal_fixed_gaussian_bs1_2e-4_epoch60.jld2\"\n",
      "Avg. PSNR on Test Set: 12.152897\n",
      "f = \"initnormal_fixed_gaussian_bs64_2e-4_epoch10.jld2\"\n",
      "Avg. PSNR on Test Set: 13.485411\n",
      "f = \"initnormal_fixed_gaussian_bs64_2e-4_epoch20.jld2\"\n",
      "Avg. PSNR on Test Set: 13.580468\n",
      "f = \"initnormal_fixed_gaussian_bs64_2e-4_epoch30.jld2\"\n",
      "Avg. PSNR on Test Set: 13.875576\n",
      "f = \"initnormal_fixed_gaussian_bs64_2e-4_epoch40.jld2\"\n",
      "Avg. PSNR on Test Set: 13.984071\n",
      "f = \"initnormal_fixed_gaussian_bs64_2e-4_epoch50.jld2\"\n",
      "Avg. PSNR on Test Set: 13.988566\n",
      "f = \"initnormal_fixed_gaussian_bs64_2e-4_epoch60.jld2\"\n",
      "Avg. PSNR on Test Set: 13.991281\n",
      "f = \"initnormal_fixed_gaussian_bs64_2e-4_epoch70.jld2\"\n",
      "Avg. PSNR on Test Set: 14.000675\n",
      "f = \"initnormal_fixed_gaussian_bs64_2e-4_epoch80.jld2\"\n",
      "Avg. PSNR on Test Set: 14.008802\n",
      "f = \"initnormal_fixed_gaussian_bs64_2e-4_epoch90.jld2\"\n",
      "Avg. PSNR on Test Set: 14.018582\n",
      "f = \"initnormal_fixed_gaussian_bs64_2e-4_epoch100.jld2\"\n",
      "Avg. PSNR on Test Set: 14.030228\n",
      "f = \"initnormal_fixed_gaussian_bs64_2e-4_epoch110.jld2\"\n",
      "Avg. PSNR on Test Set: 14.044313\n",
      "f = \"initnormal_fixed_gaussian_bs64_2e-4_epoch120.jld2\"\n",
      "Avg. PSNR on Test Set: 14.061049\n",
      "f = \"initnormal_fixed_gaussian_bs64_2e-4_epoch130.jld2\"\n",
      "Avg. PSNR on Test Set: 14.080599\n",
      "f = \"initnormal_fixed_gaussian_bs64_2e-4_epoch140.jld2\"\n",
      "Avg. PSNR on Test Set: 14.101715\n",
      "f = \"initnormal_fixed_gaussian_bs64_2e-4_epoch150.jld2\"\n",
      "Avg. PSNR on Test Set: 14.121623\n",
      "f = \"initnormal_fixed_gaussian_bs64_2e-4_epoch160.jld2\"\n",
      "Avg. PSNR on Test Set: 14.137575\n",
      "f = \"initnormal_fixed_gaussian_bs64_2e-4_epoch170.jld2\"\n",
      "Avg. PSNR on Test Set: 14.147461\n",
      "f = \"initnormal_fixed_gaussian_bs64_2e-4_epoch180.jld2\"\n",
      "Avg. PSNR on Test Set: 14.152858\n",
      "f = \"initnormal_fixed_gaussian_bs64_2e-4_epoch190.jld2\"\n",
      "Avg. PSNR on Test Set: 14.155499\n",
      "f = \"initnormal_fixed_gaussian_bs64_2e-4_epoch200.jld2\"\n",
      "Avg. PSNR on Test Set: 14.155534\n",
      "f = \"initnormal_fixed_gaussian_bs64_2e-4_epoch210.jld2\"\n",
      "Avg. PSNR on Test Set: 14.157342\n",
      "f = \"initnormal_fixed_gaussian_bs64_2e-4_epoch220.jld2\"\n",
      "Avg. PSNR on Test Set: 14.157394\n",
      "f = \"initnormal_fixed_gaussian_bs64_2e-4_epoch230.jld2\"\n",
      "Avg. PSNR on Test Set: 14.157519\n",
      "f = \"initnormal_fixed_gaussian_bs64_2e-4_epoch240.jld2\"\n",
      "Avg. PSNR on Test Set: 14.157318\n",
      "f = \"initnormal_fixed_gaussian_bs64_2e-4_epoch250.jld2\"\n",
      "Avg. PSNR on Test Set: 14.15702\n",
      "f = \"initnormal_fixed_gaussian_bs64_2e-4_epoch260.jld2\"\n",
      "Avg. PSNR on Test Set: 14.155688\n",
      "f = \"initnormal_fixed_gaussian_bs64_2e-4_epoch270.jld2\"\n",
      "Avg. PSNR on Test Set: 14.155848\n",
      "f = \"initnormal_fixed_gaussian_bs64_2e-4_epoch280.jld2\"\n",
      "Avg. PSNR on Test Set: 14.155402\n",
      "f = \"initnormal_fixed_gaussian_bs64_2e-4_epoch290.jld2\"\n",
      "Avg. PSNR on Test Set: 14.154877\n",
      "f = \"initnormal_fixed_gaussian_bs64_2e-4_epoch300.jld2\"\n",
      "Avg. PSNR on Test Set: 14.154186\n",
      "f = \"initnormal_fixed_gaussian_bs64_2e-4_epoch310.jld2\"\n",
      "Avg. PSNR on Test Set: 14.149971\n",
      "f = \"initnormal_fixed_gaussian_bs64_2e-4_epoch320.jld2\"\n",
      "Avg. PSNR on Test Set: 14.152678\n",
      "f = \"initnormal_fixed_gaussian_bs64_2e-4_epoch330.jld2\"\n",
      "Avg. PSNR on Test Set: 14.151855\n"
     ]
    }
   ],
   "source": [
    "for f in sort(cd(readdir, \"./checkpoints/\"), lt=natural)\n",
    "    @show f\n",
    "    if f[1:4] == \"init\"\n",
    "        model = load(string(\"checkpoints/\", f), \"model_checkpoint\")\n",
    "        eval(model, dtst)\n",
    "    end\n",
    "end"
   ]
  },
  {
   "cell_type": "code",
   "execution_count": null,
   "metadata": {},
   "outputs": [],
   "source": []
  },
  {
   "cell_type": "code",
   "execution_count": null,
   "metadata": {},
   "outputs": [],
   "source": []
  }
 ],
 "metadata": {
  "kernelspec": {
   "display_name": "Julia 1.6.3",
   "language": "julia",
   "name": "julia-1.6"
  },
  "language_info": {
   "file_extension": ".jl",
   "mimetype": "application/julia",
   "name": "julia",
   "version": "1.6.3"
  }
 },
 "nbformat": 4,
 "nbformat_minor": 2
}
